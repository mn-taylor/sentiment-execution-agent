{
 "cells": [
  {
   "cell_type": "code",
   "execution_count": 4,
   "id": "d7a0c73b",
   "metadata": {},
   "outputs": [],
   "source": [
    "import os\n",
    "import sys\n",
    "sys.path.append(os.path.abspath('.'))"
   ]
  },
  {
   "cell_type": "code",
   "execution_count": null,
   "id": "3db936d6",
   "metadata": {},
   "outputs": [],
   "source": [
    "\n",
    "import env\n",
    "import market_sim\n",
    "from agent.agent import PolicyNetwork\n",
    "import math\n",
    "import pandas as pd"
   ]
  },
  {
   "cell_type": "code",
   "execution_count": null,
   "id": "4fc47c95",
   "metadata": {},
   "outputs": [],
   "source": [
    "# get signal \n",
    "df = pd.read_csv(\"data/reddit_headlines/wallstreetbets_interpolated.csv\")\n",
    "signal = df[\"sentiment_score\"].to_list()\n",
    "signal = [x for x in signal if not math.isnan(x)]\n",
    "\n",
    "config = SimConfig(\n",
    "    noisy=80,\n",
    "    liquidity_takers=10,\n",
    "    market_makers=10,\n",
    "    signal = signal,\n",
    "    sen_liquidity_takers=0,\n",
    "    sen_market_makers=1,\n",
    "    lifetime = 20\n",
    ")"
   ]
  }
 ],
 "metadata": {
  "kernelspec": {
   "display_name": "rl-agent-fin",
   "language": "python",
   "name": "python3"
  },
  "language_info": {
   "codemirror_mode": {
    "name": "ipython",
    "version": 3
   },
   "file_extension": ".py",
   "mimetype": "text/x-python",
   "name": "python",
   "nbconvert_exporter": "python",
   "pygments_lexer": "ipython3",
   "version": "3.10.18"
  }
 },
 "nbformat": 4,
 "nbformat_minor": 5
}
